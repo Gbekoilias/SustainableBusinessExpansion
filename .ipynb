{
 "cells": [
  {
   "cell_type": "code",
   "execution_count": 11,
   "metadata": {},
   "outputs": [
    {
     "data": {
      "text/plain": [
       "'cost_analysis.pptx'"
      ]
     },
     "execution_count": 11,
     "metadata": {},
     "output_type": "execute_result"
    }
   ],
   "source": [
    "\n",
    "\n",
    "from pptx import Presentation\n",
    "from pptx.util import Inches\n",
    "from pptx.enum.text import PP_ALIGN\n",
    "from pptx.dml.color import RGBColor\n",
    "\n",
    "# Create a PowerPoint presentation object\n",
    "prs = Presentation()\n",
    "\n",
    "# Add a slide with title and content layout\n",
    "slide_layout = prs.slide_layouts[5]  # Use the 'Title and Content' layout\n",
    "slide = prs.slides.add_slide(slide_layout)\n",
    "\n",
    "# Set the title\n",
    "title = slide.shapes.title\n",
    "title.text = \"Cost Analysis\"\n",
    "\n",
    "# Add icons and text for Variable Costs\n",
    "variable_costs = [(\"Raw Materials\", \"icon_commodities.png\"),\n",
    "                  (\"Labor\", \"icon_hard_hat.png\"),\n",
    "                  (\"Transportation\", \"icon_transport_vehicle.png\"),\n",
    "                  (\"Logistics\", \"icon_warehouse.png\")]\n",
    "\n",
    "top = Inches(1.5)\n",
    "left = Inches(0.5)\n",
    "for item in variable_costs:\n",
    "    icon_path = item[1]\n",
    "    text = item[0]\n",
    "    \n",
    "    # Add icon\n",
    "    pic = slide.shapes.add_picture(icon_path, left, top, height=Inches(1))\n",
    "    \n",
    "    # Add text\n",
    "    txBox = slide.shapes.add_textbox(left + Inches(1.2), top, Inches(2.5), Inches(1))\n",
    "    tf = txBox.text_frame\n",
    "    p = tf.add_paragraph()\n",
    "    p.text = text\n",
    "    p.font.bold = True\n",
    "    p.font.size = Pt(14)\n",
    "    \n",
    "    top += Inches(1.2)\n",
    "\n",
    "# Add icons and text for Fixed Costs\n",
    "fixed_costs = [(\"Infrastructure\", \"icon_building.png\"),\n",
    "               (\"Equipment Maintenance\", \"icon_tools.png\"),\n",
    "               (\"Administrative Expenses\", \"icon_clipboard.png\")]\n",
    "\n",
    "top = Inches(1.5)\n",
    "left = Inches(4.5)\n",
    "for item in fixed_costs:\n",
    "    icon_path = item[1]\n",
    "    text = item[0]\n",
    "    \n",
    "    # Add icon\n",
    "    pic = slide.shapes.add_picture(icon_path, left, top, height=Inches(1))\n",
    "    \n",
    "    # Add text\n",
    "    txBox = slide.shapes.add_textbox(left + Inches(1.2), top, Inches(2.5), Inches(1))\n",
    "    tf = txBox.text_frame\n",
    "    p = tf.add_paragraph()\n",
    "    p.text = text\n",
    "    p.font.bold = True\n",
    "    p.font.size = Pt(14)\n",
    "    \n",
    "    top += Inches(1.2)\n",
    "\n",
    "# Add table for detailed breakdown\n",
    "table_data = [\n",
    "    [\"Cost Type\", \"Details\"],\n",
    "    [\"Variable Costs\", \"Raw Materials, Labor, Transportation, Logistics\"],\n",
    "    [\"Fixed Costs\", \"Infrastructure, Equipment Maintenance, Administrative Expenses\"]\n",
    "]\n",
    "\n",
    "# Set table position and size\n",
    "rows, cols = 3, 2\n",
    "left = Inches(1)\n",
    "top = Inches(6)\n",
    "width = Inches(8)\n",
    "height = Inches(1)\n",
    "\n",
    "# Add table to slide\n",
    "table = slide.shapes.add_table(rows, cols, left, top, width, height).table\n",
    "\n",
    "# Set column widths\n",
    "table.columns[0].width = Inches(3)\n",
    "table.columns[1].width = Inches(5)\n",
    "\n",
    "# Set table data\n",
    "for row in range(rows):\n",
    "    for col in range(cols):\n",
    "        cell = table.cell(row, col)\n",
    "        cell.text = table_data[row][col]\n",
    "        cell.text_frame.paragraphs[0].font.size = Pt(12)\n",
    "        if row == 0:\n",
    "            cell.text_frame.paragraphs[0].font.bold = True\n",
    "            cell.fill.solid()\n",
    "            cell.fill.fore_color.rgb = RGBColor(200, 200, 200)\n",
    "\n",
    "# Save the presentation\n",
    "pptx_path = \"cost_analysis.pptx\"\n",
    "prs.save(pptx_path)\n",
    "\n",
    "pptx_path\n"
   ]
  },
  {
   "cell_type": "code",
   "execution_count": 5,
   "metadata": {},
   "outputs": [
    {
     "name": "stdout",
     "output_type": "stream",
     "text": [
      "Requirement already satisfied: python-pptx in c:\\users\\donkams\\appdata\\roaming\\python\\python312\\site-packages (0.6.23)\n",
      "Requirement already satisfied: lxml>=3.1.0 in c:\\python312\\lib\\site-packages (from python-pptx) (5.1.0)\n",
      "Requirement already satisfied: Pillow>=3.3.2 in c:\\python312\\lib\\site-packages (from python-pptx) (10.2.0)\n",
      "Requirement already satisfied: XlsxWriter>=0.5.7 in c:\\python312\\lib\\site-packages (from python-pptx) (3.2.0)\n",
      "Note: you may need to restart the kernel to use updated packages.\n"
     ]
    },
    {
     "name": "stderr",
     "output_type": "stream",
     "text": [
      "\n",
      "[notice] A new release of pip is available: 23.2.1 -> 24.0\n",
      "[notice] To update, run: python.exe -m pip install --upgrade pip\n"
     ]
    }
   ],
   "source": [
    "%pip install --user python-pptx"
   ]
  },
  {
   "cell_type": "code",
   "execution_count": 9,
   "metadata": {},
   "outputs": [],
   "source": [
    "from pptx.util import Pt"
   ]
  }
 ],
 "metadata": {
  "kernelspec": {
   "display_name": "Python 3",
   "language": "python",
   "name": "python3"
  },
  "language_info": {
   "codemirror_mode": {
    "name": "ipython",
    "version": 3
   },
   "file_extension": ".py",
   "mimetype": "text/x-python",
   "name": "python",
   "nbconvert_exporter": "python",
   "pygments_lexer": "ipython3",
   "version": "3.12.1"
  }
 },
 "nbformat": 4,
 "nbformat_minor": 2
}
